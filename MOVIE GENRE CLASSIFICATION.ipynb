{
 "cells": [
  {
   "cell_type": "markdown",
   "id": "24b8d006-be03-4f96-b4aa-b7fa14f60fd4",
   "metadata": {},
   "source": [
    "## Importing Required Libraries"
   ]
  },
  {
   "cell_type": "code",
   "execution_count": 1,
   "id": "cbaedf36-ee8f-4834-bf21-fed4c6c879c4",
   "metadata": {},
   "outputs": [],
   "source": [
    "from gensim.models import Word2Vec\n",
    "import pandas as pd\n",
    "import zipfile\n",
    "import os\n",
    "import re\n",
    "import nltk\n",
    "import numpy as np\n",
    "from nltk.corpus import stopwords\n",
    "from nltk.tokenize import word_tokenize\n",
    "from nltk.stem import WordNetLemmatizer\n",
    "from sklearn.feature_extraction.text import TfidfVectorizer\n",
    "from sklearn.model_selection import train_test_split\n",
    "from sklearn.linear_model import LogisticRegression\n",
    "from sklearn.naive_bayes import MultinomialNB\n",
    "from sklearn.svm import SVC\n",
    "from sklearn.metrics import classification_report, accuracy_score\n",
    "from sklearn.pipeline import FeatureUnion\n",
    "from sklearn.base import BaseEstimator, TransformerMixin\n",
    "from gensim.models import Word2Vec\n",
    "from sklearn.model_selection import train_test_split, GridSearchCV\n",
    "from sklearn.linear_model import LogisticRegression\n",
    "from sklearn.svm import SVC\n",
    "\n"
   ]
  },
  {
   "cell_type": "markdown",
   "id": "dfe5e7e3-69d3-4e43-93cf-12cb9654c1bb",
   "metadata": {},
   "source": [
    "## Read the Folder\n"
   ]
  },
  {
   "cell_type": "code",
   "execution_count": 6,
   "id": "a8f42c3c-1762-48e9-bf05-dd2a6b330b24",
   "metadata": {},
   "outputs": [
    {
     "name": "stdout",
     "output_type": "stream",
     "text": [
      "\n",
      "Test Data:\n",
      "    ID                        TITLE  \\\n",
      "0   1         Edgar's Lunch (1998)   \n",
      "1   2     La guerra de papá (1977)   \n",
      "2   3  Off the Beaten Track (2010)   \n",
      "3   4       Meu Amigo Hindu (2015)   \n",
      "4   5            Er nu zhai (1955)   \n",
      "\n",
      "                                         DESCRIPTION  \n",
      "0  L.R. Brane loves his life - his car, his apart...  \n",
      "1  Spain, March 1964: Quico is a very naughty chi...  \n",
      "2  One year in the life of Albin and his family o...  \n",
      "3  His father has died, he hasn't spoken with his...  \n",
      "4  Before he was known internationally as a marti...  \n",
      "\n",
      "Train Data:\n",
      "    ID                             TITLE     GENRE  \\\n",
      "0   1      Oscar et la dame rose (2009)     drama   \n",
      "1   2                      Cupid (1997)  thriller   \n",
      "2   3  Young, Wild and Wonderful (1980)     adult   \n",
      "3   4             The Secret Sin (1915)     drama   \n",
      "4   5            The Unrecovered (2007)     drama   \n",
      "\n",
      "                                         DESCRIPTION  \n",
      "0  Listening in to a conversation between his doc...  \n",
      "1  A brother and sister with a past incestuous re...  \n",
      "2  As the bus empties the students for their fiel...  \n",
      "3  To help their unemployed father make ends meet...  \n",
      "4  The film's title refers not only to the un-rec...  \n"
     ]
    }
   ],
   "source": [
    "\n",
    "zip_file_path = 'C:/Users/amnak/Downloads/archive (3).zip'\n",
    "extraction_directory = '/mnt/data/extracted_files'\n",
    "\n",
    "os.makedirs(extraction_directory, exist_ok=True)\n",
    "\n",
    "with zipfile.ZipFile(zip_file_path, 'r') as zip_ref:\n",
    "    zip_ref.extractall(extraction_directory)\n",
    "\n",
    "dataset_folder = os.path.join(extraction_directory, 'Genre Classification Dataset')\n",
    "description_file = os.path.join(dataset_folder, 'description.txt')\n",
    "test_data_file = os.path.join(dataset_folder, 'test_data.txt')\n",
    "test_data_solution_file = os.path.join(dataset_folder, 'test_data_solution.txt')\n",
    "train_data_file = os.path.join(dataset_folder, 'train_data.txt')\n",
    "\n",
    "with open(description_file, 'r') as file:\n",
    "    description_content = file.read()\n",
    "\n",
    "test_data_df = pd.read_csv(test_data_file, delimiter=' ::: ', engine='python', names=['ID', 'TITLE', 'DESCRIPTION'])\n",
    "test_data_solution_df = pd.read_csv(test_data_solution_file, delimiter=' ::: ', engine='python', names=['ID', 'TITLE', 'GENRE', 'DESCRIPTION'])\n",
    "train_data_df = pd.read_csv(train_data_file, delimiter=' ::: ', engine='python', names=['ID', 'TITLE', 'GENRE', 'DESCRIPTION'])\n",
    "\n",
    "print(\"\\nTest Data:\\n\", test_data_df.head())\n",
    "print(\"\\nTrain Data:\\n\", train_data_df.head())\n"
   ]
  },
  {
   "cell_type": "markdown",
   "id": "3e4b35c1-03c7-4f9c-a9d2-6cc81169bae1",
   "metadata": {},
   "source": [
    "## Data PreProcessing"
   ]
  },
  {
   "cell_type": "code",
   "execution_count": 7,
   "id": "a07ae563-9557-4f36-b390-a3ead84854ed",
   "metadata": {},
   "outputs": [],
   "source": [
    "\n",
    "# text features\n",
    "train_data_df['TEXT'] = train_data_df['TITLE'] + ' ' + train_data_df['DESCRIPTION']\n",
    "test_data_solution_df['TEXT'] = test_data_solution_df['TITLE'] + ' ' + test_data_solution_df['DESCRIPTION']\n",
    "\n",
    "def preprocess_text(text):\n",
    "    text = text.lower()\n",
    "    text = re.sub(r'[^a-zA-Z\\s]', '', text)\n",
    "    tokens = word_tokenize(text)\n",
    "    tokens = [word for word in tokens if word not in stopwords.words('english')]\n",
    "    lemmatizer = WordNetLemmatizer()\n",
    "    tokens = [lemmatizer.lemmatize(word) for word in tokens]\n",
    "    return ' '.join(tokens)\n",
    "    \n",
    "train_data_df['TEXT'] = train_data_df['TEXT'].apply(preprocess_text)\n",
    "test_data_solution_df['TEXT'] = test_data_solution_df['TEXT'].apply(preprocess_text)\n",
    "\n",
    "X_train, X_val, y_train, y_val = train_test_split(train_data_df['TEXT'], train_data_df['GENRE'], test_size=0.2, random_state=42)\n"
   ]
  },
  {
   "cell_type": "markdown",
   "id": "a65221c7-6b52-46da-ae3c-c73d8ffd2134",
   "metadata": {},
   "source": [
    "## Feature Extraction"
   ]
  },
  {
   "cell_type": "code",
   "execution_count": 8,
   "id": "d48fe07a-a176-4424-85d1-326737287f6a",
   "metadata": {},
   "outputs": [],
   "source": [
    "vectorizer = TfidfVectorizer(max_features=10000, ngram_range=(1, 2))\n",
    "X_train_tfidf = vectorizer.fit_transform(X_train)\n",
    "X_val_tfidf = vectorizer.transform(X_val)\n",
    "X_test_tfidf = vectorizer.transform(test_data_solution_df['TEXT'])"
   ]
  },
  {
   "cell_type": "markdown",
   "id": "8f709911-9e07-408a-a925-9213d3d5f4a8",
   "metadata": {},
   "source": [
    "## Logestic Regression"
   ]
  },
  {
   "cell_type": "code",
   "execution_count": 11,
   "id": "3137cca7-2f5c-4773-aa76-db5ec873a5fb",
   "metadata": {},
   "outputs": [
    {
     "name": "stderr",
     "output_type": "stream",
     "text": [
      "C:\\Users\\amnak\\anaconda3\\Lib\\site-packages\\sklearn\\linear_model\\_logistic.py:458: ConvergenceWarning: lbfgs failed to converge (status=1):\n",
      "STOP: TOTAL NO. of ITERATIONS REACHED LIMIT.\n",
      "\n",
      "Increase the number of iterations (max_iter) or scale the data as shown in:\n",
      "    https://scikit-learn.org/stable/modules/preprocessing.html\n",
      "Please also refer to the documentation for alternative solver options:\n",
      "    https://scikit-learn.org/stable/modules/linear_model.html#logistic-regression\n",
      "  n_iter_i = _check_optimize_result(\n",
      "C:\\Users\\amnak\\anaconda3\\Lib\\site-packages\\sklearn\\linear_model\\_logistic.py:458: ConvergenceWarning: lbfgs failed to converge (status=1):\n",
      "STOP: TOTAL NO. of ITERATIONS REACHED LIMIT.\n",
      "\n",
      "Increase the number of iterations (max_iter) or scale the data as shown in:\n",
      "    https://scikit-learn.org/stable/modules/preprocessing.html\n",
      "Please also refer to the documentation for alternative solver options:\n",
      "    https://scikit-learn.org/stable/modules/linear_model.html#logistic-regression\n",
      "  n_iter_i = _check_optimize_result(\n",
      "C:\\Users\\amnak\\anaconda3\\Lib\\site-packages\\sklearn\\linear_model\\_logistic.py:458: ConvergenceWarning: lbfgs failed to converge (status=1):\n",
      "STOP: TOTAL NO. of ITERATIONS REACHED LIMIT.\n",
      "\n",
      "Increase the number of iterations (max_iter) or scale the data as shown in:\n",
      "    https://scikit-learn.org/stable/modules/preprocessing.html\n",
      "Please also refer to the documentation for alternative solver options:\n",
      "    https://scikit-learn.org/stable/modules/linear_model.html#logistic-regression\n",
      "  n_iter_i = _check_optimize_result(\n",
      "C:\\Users\\amnak\\anaconda3\\Lib\\site-packages\\sklearn\\linear_model\\_logistic.py:458: ConvergenceWarning: lbfgs failed to converge (status=1):\n",
      "STOP: TOTAL NO. of ITERATIONS REACHED LIMIT.\n",
      "\n",
      "Increase the number of iterations (max_iter) or scale the data as shown in:\n",
      "    https://scikit-learn.org/stable/modules/preprocessing.html\n",
      "Please also refer to the documentation for alternative solver options:\n",
      "    https://scikit-learn.org/stable/modules/linear_model.html#logistic-regression\n",
      "  n_iter_i = _check_optimize_result(\n",
      "C:\\Users\\amnak\\anaconda3\\Lib\\site-packages\\sklearn\\linear_model\\_logistic.py:458: ConvergenceWarning: lbfgs failed to converge (status=1):\n",
      "STOP: TOTAL NO. of ITERATIONS REACHED LIMIT.\n",
      "\n",
      "Increase the number of iterations (max_iter) or scale the data as shown in:\n",
      "    https://scikit-learn.org/stable/modules/preprocessing.html\n",
      "Please also refer to the documentation for alternative solver options:\n",
      "    https://scikit-learn.org/stable/modules/linear_model.html#logistic-regression\n",
      "  n_iter_i = _check_optimize_result(\n"
     ]
    },
    {
     "name": "stdout",
     "output_type": "stream",
     "text": [
      "Logistic Regression Validation Set Evaluation:\n"
     ]
    },
    {
     "name": "stderr",
     "output_type": "stream",
     "text": [
      "C:\\Users\\amnak\\anaconda3\\Lib\\site-packages\\sklearn\\metrics\\_classification.py:1344: UndefinedMetricWarning: Precision and F-score are ill-defined and being set to 0.0 in labels with no predicted samples. Use `zero_division` parameter to control this behavior.\n",
      "  _warn_prf(average, modifier, msg_start, len(result))\n",
      "C:\\Users\\amnak\\anaconda3\\Lib\\site-packages\\sklearn\\metrics\\_classification.py:1344: UndefinedMetricWarning: Precision and F-score are ill-defined and being set to 0.0 in labels with no predicted samples. Use `zero_division` parameter to control this behavior.\n",
      "  _warn_prf(average, modifier, msg_start, len(result))\n",
      "C:\\Users\\amnak\\anaconda3\\Lib\\site-packages\\sklearn\\metrics\\_classification.py:1344: UndefinedMetricWarning: Precision and F-score are ill-defined and being set to 0.0 in labels with no predicted samples. Use `zero_division` parameter to control this behavior.\n",
      "  _warn_prf(average, modifier, msg_start, len(result))\n"
     ]
    },
    {
     "name": "stdout",
     "output_type": "stream",
     "text": [
      "              precision    recall  f1-score   support\n",
      "\n",
      "      action       0.52      0.27      0.36       263\n",
      "       adult       0.69      0.21      0.33       112\n",
      "   adventure       0.46      0.18      0.26       139\n",
      "   animation       0.47      0.08      0.13       104\n",
      "   biography       0.00      0.00      0.00        61\n",
      "      comedy       0.52      0.60      0.55      1443\n",
      "       crime       0.30      0.03      0.05       107\n",
      " documentary       0.67      0.84      0.74      2659\n",
      "       drama       0.54      0.77      0.64      2697\n",
      "      family       0.44      0.10      0.16       150\n",
      "     fantasy       0.00      0.00      0.00        74\n",
      "   game-show       0.90      0.45      0.60        40\n",
      "     history       0.00      0.00      0.00        45\n",
      "      horror       0.65      0.59      0.62       431\n",
      "       music       0.61      0.52      0.56       144\n",
      "     musical       0.50      0.04      0.07        50\n",
      "     mystery       0.67      0.04      0.07        56\n",
      "        news       0.50      0.03      0.06        34\n",
      "  reality-tv       0.48      0.18      0.26       192\n",
      "     romance       0.29      0.01      0.03       151\n",
      "      sci-fi       0.57      0.22      0.32       143\n",
      "       short       0.46      0.32      0.38      1045\n",
      "       sport       0.57      0.26      0.36        93\n",
      "   talk-show       0.48      0.15      0.23        81\n",
      "    thriller       0.44      0.17      0.24       309\n",
      "         war       0.00      0.00      0.00        20\n",
      "     western       0.92      0.74      0.82       200\n",
      "\n",
      "    accuracy                           0.58     10843\n",
      "   macro avg       0.47      0.25      0.29     10843\n",
      "weighted avg       0.55      0.58      0.54     10843\n",
      "\n",
      "Logistic Regression Validation Accuracy: 0.5812966891081804\n",
      "\n",
      "Logistic Regression Test Set Evaluation:\n"
     ]
    },
    {
     "name": "stderr",
     "output_type": "stream",
     "text": [
      "C:\\Users\\amnak\\anaconda3\\Lib\\site-packages\\sklearn\\metrics\\_classification.py:1344: UndefinedMetricWarning: Precision and F-score are ill-defined and being set to 0.0 in labels with no predicted samples. Use `zero_division` parameter to control this behavior.\n",
      "  _warn_prf(average, modifier, msg_start, len(result))\n",
      "C:\\Users\\amnak\\anaconda3\\Lib\\site-packages\\sklearn\\metrics\\_classification.py:1344: UndefinedMetricWarning: Precision and F-score are ill-defined and being set to 0.0 in labels with no predicted samples. Use `zero_division` parameter to control this behavior.\n",
      "  _warn_prf(average, modifier, msg_start, len(result))\n"
     ]
    },
    {
     "name": "stdout",
     "output_type": "stream",
     "text": [
      "              precision    recall  f1-score   support\n",
      "\n",
      "      action       0.50      0.29      0.37      1314\n",
      "       adult       0.63      0.22      0.33       590\n",
      "   adventure       0.61      0.19      0.29       775\n",
      "   animation       0.50      0.06      0.10       498\n",
      "   biography       0.00      0.00      0.00       264\n",
      "      comedy       0.53      0.59      0.56      7446\n",
      "       crime       0.36      0.03      0.06       505\n",
      " documentary       0.66      0.84      0.74     13096\n",
      "       drama       0.54      0.77      0.63     13612\n",
      "      family       0.46      0.09      0.15       783\n",
      "     fantasy       0.53      0.03      0.06       322\n",
      "   game-show       0.89      0.51      0.65       193\n",
      "     history       0.00      0.00      0.00       243\n",
      "      horror       0.66      0.59      0.62      2204\n",
      "       music       0.66      0.44      0.53       731\n",
      "     musical       0.16      0.01      0.03       276\n",
      "     mystery       0.38      0.02      0.03       318\n",
      "        news       0.79      0.08      0.15       181\n",
      "  reality-tv       0.50      0.17      0.25       883\n",
      "     romance       0.39      0.03      0.06       672\n",
      "      sci-fi       0.56      0.24      0.33       646\n",
      "       short       0.46      0.32      0.38      5072\n",
      "       sport       0.68      0.24      0.36       431\n",
      "   talk-show       0.62      0.18      0.27       391\n",
      "    thriller       0.38      0.13      0.19      1590\n",
      "         war       1.00      0.02      0.04       132\n",
      "     western       0.90      0.73      0.81      1032\n",
      "\n",
      "    accuracy                           0.58     54200\n",
      "   macro avg       0.53      0.25      0.30     54200\n",
      "weighted avg       0.56      0.58      0.54     54200\n",
      "\n",
      "Logistic Regression Test Accuracy: 0.5812361623616236\n"
     ]
    },
    {
     "name": "stderr",
     "output_type": "stream",
     "text": [
      "C:\\Users\\amnak\\anaconda3\\Lib\\site-packages\\sklearn\\metrics\\_classification.py:1344: UndefinedMetricWarning: Precision and F-score are ill-defined and being set to 0.0 in labels with no predicted samples. Use `zero_division` parameter to control this behavior.\n",
      "  _warn_prf(average, modifier, msg_start, len(result))\n"
     ]
    }
   ],
   "source": [
    "\n",
    "\n",
    "lr_params = {'C': [0.1, 1, 10, 100]}\n",
    "lr_classifier = GridSearchCV(LogisticRegression(max_iter=1000), lr_params, cv=5)\n",
    "lr_classifier.fit(X_train_tfidf, y_train)\n",
    "\n",
    "y_val_pred_lr = lr_classifier.predict(X_val_tfidf)\n",
    "y_test_pred_lr = lr_classifier.predict(X_test_tfidf)\n",
    "print(\"Logistic Regression Validation Set Evaluation:\")\n",
    "print(classification_report(y_val, y_val_pred_lr))\n",
    "print(\"Logistic Regression Validation Accuracy:\", accuracy_score(y_val, y_val_pred_lr))\n",
    "print(\"\\nLogistic Regression Test Set Evaluation:\")\n",
    "print(classification_report(test_data_solution_df['GENRE'], y_test_pred_lr))\n",
    "print(\"Logistic Regression Test Accuracy:\", accuracy_score(test_data_solution_df['GENRE'], y_test_pred_lr))\n"
   ]
  },
  {
   "cell_type": "markdown",
   "id": "1d5ecb9c-0631-41a1-86d0-80973a5882d4",
   "metadata": {},
   "source": [
    "## NaiveBayes"
   ]
  },
  {
   "cell_type": "code",
   "execution_count": 12,
   "id": "33a98e95-064a-4589-b58d-cbbc043466af",
   "metadata": {},
   "outputs": [
    {
     "name": "stdout",
     "output_type": "stream",
     "text": [
      "\n",
      "Naive Bayes Validation Set Evaluation:\n"
     ]
    },
    {
     "name": "stderr",
     "output_type": "stream",
     "text": [
      "C:\\Users\\amnak\\anaconda3\\Lib\\site-packages\\sklearn\\metrics\\_classification.py:1344: UndefinedMetricWarning: Precision and F-score are ill-defined and being set to 0.0 in labels with no predicted samples. Use `zero_division` parameter to control this behavior.\n",
      "  _warn_prf(average, modifier, msg_start, len(result))\n",
      "C:\\Users\\amnak\\anaconda3\\Lib\\site-packages\\sklearn\\metrics\\_classification.py:1344: UndefinedMetricWarning: Precision and F-score are ill-defined and being set to 0.0 in labels with no predicted samples. Use `zero_division` parameter to control this behavior.\n",
      "  _warn_prf(average, modifier, msg_start, len(result))\n",
      "C:\\Users\\amnak\\anaconda3\\Lib\\site-packages\\sklearn\\metrics\\_classification.py:1344: UndefinedMetricWarning: Precision and F-score are ill-defined and being set to 0.0 in labels with no predicted samples. Use `zero_division` parameter to control this behavior.\n",
      "  _warn_prf(average, modifier, msg_start, len(result))\n"
     ]
    },
    {
     "name": "stdout",
     "output_type": "stream",
     "text": [
      "              precision    recall  f1-score   support\n",
      "\n",
      "      action       0.59      0.22      0.32       263\n",
      "       adult       0.74      0.22      0.34       112\n",
      "   adventure       0.43      0.09      0.14       139\n",
      "   animation       0.67      0.06      0.11       104\n",
      "   biography       0.00      0.00      0.00        61\n",
      "      comedy       0.51      0.47      0.49      1443\n",
      "       crime       0.50      0.01      0.02       107\n",
      " documentary       0.60      0.86      0.70      2659\n",
      "       drama       0.48      0.80      0.60      2697\n",
      "      family       0.44      0.03      0.05       150\n",
      "     fantasy       0.50      0.01      0.03        74\n",
      "   game-show       1.00      0.42      0.60        40\n",
      "     history       0.00      0.00      0.00        45\n",
      "      horror       0.74      0.48      0.58       431\n",
      "       music       0.66      0.45      0.53       144\n",
      "     musical       0.00      0.00      0.00        50\n",
      "     mystery       1.00      0.02      0.04        56\n",
      "        news       0.00      0.00      0.00        34\n",
      "  reality-tv       0.53      0.10      0.17       192\n",
      "     romance       0.00      0.00      0.00       151\n",
      "      sci-fi       0.59      0.15      0.24       143\n",
      "       short       0.52      0.14      0.22      1045\n",
      "       sport       0.67      0.32      0.43        93\n",
      "   talk-show       0.64      0.11      0.19        81\n",
      "    thriller       0.35      0.06      0.10       309\n",
      "         war       1.00      0.05      0.10        20\n",
      "     western       0.94      0.77      0.85       200\n",
      "\n",
      "    accuracy                           0.54     10843\n",
      "   macro avg       0.52      0.22      0.25     10843\n",
      "weighted avg       0.54      0.54      0.49     10843\n",
      "\n",
      "Naive Bayes Validation Accuracy: 0.5447754311537397\n",
      "\n",
      "Naive Bayes Test Set Evaluation:\n"
     ]
    },
    {
     "name": "stderr",
     "output_type": "stream",
     "text": [
      "C:\\Users\\amnak\\anaconda3\\Lib\\site-packages\\sklearn\\metrics\\_classification.py:1344: UndefinedMetricWarning: Precision and F-score are ill-defined and being set to 0.0 in labels with no predicted samples. Use `zero_division` parameter to control this behavior.\n",
      "  _warn_prf(average, modifier, msg_start, len(result))\n",
      "C:\\Users\\amnak\\anaconda3\\Lib\\site-packages\\sklearn\\metrics\\_classification.py:1344: UndefinedMetricWarning: Precision and F-score are ill-defined and being set to 0.0 in labels with no predicted samples. Use `zero_division` parameter to control this behavior.\n",
      "  _warn_prf(average, modifier, msg_start, len(result))\n"
     ]
    },
    {
     "name": "stdout",
     "output_type": "stream",
     "text": [
      "              precision    recall  f1-score   support\n",
      "\n",
      "      action       0.52      0.20      0.29      1314\n",
      "       adult       0.54      0.18      0.27       590\n",
      "   adventure       0.62      0.12      0.20       775\n",
      "   animation       0.64      0.03      0.05       498\n",
      "   biography       0.00      0.00      0.00       264\n",
      "      comedy       0.53      0.46      0.49      7446\n",
      "       crime       0.18      0.00      0.01       505\n",
      " documentary       0.59      0.85      0.70     13096\n",
      "       drama       0.48      0.81      0.60     13612\n",
      "      family       0.67      0.03      0.06       783\n",
      "     fantasy       0.58      0.05      0.09       322\n",
      "   game-show       0.91      0.52      0.66       193\n",
      "     history       0.00      0.00      0.00       243\n",
      "      horror       0.69      0.45      0.54      2204\n",
      "       music       0.64      0.44      0.52       731\n",
      "     musical       0.00      0.00      0.00       276\n",
      "     mystery       0.33      0.00      0.01       318\n",
      "        news       1.00      0.02      0.04       181\n",
      "  reality-tv       0.53      0.09      0.16       883\n",
      "     romance       1.00      0.00      0.00       672\n",
      "      sci-fi       0.57      0.20      0.29       646\n",
      "       short       0.56      0.15      0.23      5072\n",
      "       sport       0.70      0.29      0.41       431\n",
      "   talk-show       0.63      0.12      0.20       391\n",
      "    thriller       0.36      0.05      0.08      1590\n",
      "         war       1.00      0.05      0.09       132\n",
      "     western       0.93      0.74      0.83      1032\n",
      "\n",
      "    accuracy                           0.54     54200\n",
      "   macro avg       0.56      0.22      0.25     54200\n",
      "weighted avg       0.55      0.54      0.48     54200\n",
      "\n",
      "Naive Bayes Test Accuracy: 0.5435055350553506\n"
     ]
    },
    {
     "name": "stderr",
     "output_type": "stream",
     "text": [
      "C:\\Users\\amnak\\anaconda3\\Lib\\site-packages\\sklearn\\metrics\\_classification.py:1344: UndefinedMetricWarning: Precision and F-score are ill-defined and being set to 0.0 in labels with no predicted samples. Use `zero_division` parameter to control this behavior.\n",
      "  _warn_prf(average, modifier, msg_start, len(result))\n"
     ]
    }
   ],
   "source": [
    "\n",
    "nb_params = {'alpha': [0.1, 0.5, 1, 5, 10]}\n",
    "nb_classifier = GridSearchCV(MultinomialNB(), nb_params, cv=5)\n",
    "nb_classifier.fit(X_train_tfidf, y_train)\n",
    "\n",
    "y_val_pred_nb = nb_classifier.predict(X_val_tfidf)\n",
    "y_test_pred_nb = nb_classifier.predict(X_test_tfidf)\n",
    "print(\"\\nNaive Bayes Validation Set Evaluation:\")\n",
    "print(classification_report(y_val, y_val_pred_nb))\n",
    "print(\"Naive Bayes Validation Accuracy:\", accuracy_score(y_val, y_val_pred_nb))\n",
    "print(\"\\nNaive Bayes Test Set Evaluation:\")\n",
    "print(classification_report(test_data_solution_df['GENRE'], y_test_pred_nb))\n",
    "print(\"Naive Bayes Test Accuracy:\", accuracy_score(test_data_solution_df['GENRE'], y_test_pred_nb))\n"
   ]
  }
 ],
 "metadata": {
  "kernelspec": {
   "display_name": "Python 3 (ipykernel)",
   "language": "python",
   "name": "python3"
  },
  "language_info": {
   "codemirror_mode": {
    "name": "ipython",
    "version": 3
   },
   "file_extension": ".py",
   "mimetype": "text/x-python",
   "name": "python",
   "nbconvert_exporter": "python",
   "pygments_lexer": "ipython3",
   "version": "3.11.7"
  }
 },
 "nbformat": 4,
 "nbformat_minor": 5
}

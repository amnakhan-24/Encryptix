{
 "cells": [
  {
   "cell_type": "markdown",
   "id": "87b3b9f1-2356-4b77-8a18-89d0fffe1b6f",
   "metadata": {},
   "source": [
    "## Importing Required Libraries"
   ]
  },
  {
   "cell_type": "code",
   "execution_count": 33,
   "id": "cb0e238b-8408-4dba-92b3-4a40efab5957",
   "metadata": {},
   "outputs": [],
   "source": [
    "import pandas as pd\n",
    "from sklearn.model_selection import train_test_split\n",
    "from sklearn.feature_extraction.text import TfidfVectorizer\n",
    "from sklearn.naive_bayes import MultinomialNB\n",
    "from sklearn.linear_model import LogisticRegression\n",
    "from sklearn.svm import SVC\n",
    "from sklearn.metrics import classification_report, accuracy_score\n",
    "import numpy as np\n",
    "import nltk\n",
    "from nltk.corpus import stopwords\n",
    "from nltk.tokenize import word_tokenize\n",
    "from gensim.models import Word2Vec\n",
    "import matplotlib.pyplot as plt"
   ]
  },
  {
   "cell_type": "markdown",
   "id": "ee3f3340-c273-408b-8b70-1fc7df4a529b",
   "metadata": {},
   "source": [
    "## Data Loading and PreProcessing"
   ]
  },
  {
   "cell_type": "code",
   "execution_count": 2,
   "id": "ae67246d-2c98-44d7-bc98-0472ba365315",
   "metadata": {},
   "outputs": [
    {
     "data": {
      "text/html": [
       "<div>\n",
       "<style scoped>\n",
       "    .dataframe tbody tr th:only-of-type {\n",
       "        vertical-align: middle;\n",
       "    }\n",
       "\n",
       "    .dataframe tbody tr th {\n",
       "        vertical-align: top;\n",
       "    }\n",
       "\n",
       "    .dataframe thead th {\n",
       "        text-align: right;\n",
       "    }\n",
       "</style>\n",
       "<table border=\"1\" class=\"dataframe\">\n",
       "  <thead>\n",
       "    <tr style=\"text-align: right;\">\n",
       "      <th></th>\n",
       "      <th>v1</th>\n",
       "      <th>v2</th>\n",
       "      <th>Unnamed: 2</th>\n",
       "      <th>Unnamed: 3</th>\n",
       "      <th>Unnamed: 4</th>\n",
       "    </tr>\n",
       "  </thead>\n",
       "  <tbody>\n",
       "    <tr>\n",
       "      <th>0</th>\n",
       "      <td>ham</td>\n",
       "      <td>Go until jurong point, crazy.. Available only ...</td>\n",
       "      <td>NaN</td>\n",
       "      <td>NaN</td>\n",
       "      <td>NaN</td>\n",
       "    </tr>\n",
       "    <tr>\n",
       "      <th>1</th>\n",
       "      <td>ham</td>\n",
       "      <td>Ok lar... Joking wif u oni...</td>\n",
       "      <td>NaN</td>\n",
       "      <td>NaN</td>\n",
       "      <td>NaN</td>\n",
       "    </tr>\n",
       "    <tr>\n",
       "      <th>2</th>\n",
       "      <td>spam</td>\n",
       "      <td>Free entry in 2 a wkly comp to win FA Cup fina...</td>\n",
       "      <td>NaN</td>\n",
       "      <td>NaN</td>\n",
       "      <td>NaN</td>\n",
       "    </tr>\n",
       "    <tr>\n",
       "      <th>3</th>\n",
       "      <td>ham</td>\n",
       "      <td>U dun say so early hor... U c already then say...</td>\n",
       "      <td>NaN</td>\n",
       "      <td>NaN</td>\n",
       "      <td>NaN</td>\n",
       "    </tr>\n",
       "    <tr>\n",
       "      <th>4</th>\n",
       "      <td>ham</td>\n",
       "      <td>Nah I don't think he goes to usf, he lives aro...</td>\n",
       "      <td>NaN</td>\n",
       "      <td>NaN</td>\n",
       "      <td>NaN</td>\n",
       "    </tr>\n",
       "    <tr>\n",
       "      <th>...</th>\n",
       "      <td>...</td>\n",
       "      <td>...</td>\n",
       "      <td>...</td>\n",
       "      <td>...</td>\n",
       "      <td>...</td>\n",
       "    </tr>\n",
       "    <tr>\n",
       "      <th>5567</th>\n",
       "      <td>spam</td>\n",
       "      <td>This is the 2nd time we have tried 2 contact u...</td>\n",
       "      <td>NaN</td>\n",
       "      <td>NaN</td>\n",
       "      <td>NaN</td>\n",
       "    </tr>\n",
       "    <tr>\n",
       "      <th>5568</th>\n",
       "      <td>ham</td>\n",
       "      <td>Will Ì_ b going to esplanade fr home?</td>\n",
       "      <td>NaN</td>\n",
       "      <td>NaN</td>\n",
       "      <td>NaN</td>\n",
       "    </tr>\n",
       "    <tr>\n",
       "      <th>5569</th>\n",
       "      <td>ham</td>\n",
       "      <td>Pity, * was in mood for that. So...any other s...</td>\n",
       "      <td>NaN</td>\n",
       "      <td>NaN</td>\n",
       "      <td>NaN</td>\n",
       "    </tr>\n",
       "    <tr>\n",
       "      <th>5570</th>\n",
       "      <td>ham</td>\n",
       "      <td>The guy did some bitching but I acted like i'd...</td>\n",
       "      <td>NaN</td>\n",
       "      <td>NaN</td>\n",
       "      <td>NaN</td>\n",
       "    </tr>\n",
       "    <tr>\n",
       "      <th>5571</th>\n",
       "      <td>ham</td>\n",
       "      <td>Rofl. Its true to its name</td>\n",
       "      <td>NaN</td>\n",
       "      <td>NaN</td>\n",
       "      <td>NaN</td>\n",
       "    </tr>\n",
       "  </tbody>\n",
       "</table>\n",
       "<p>5572 rows × 5 columns</p>\n",
       "</div>"
      ],
      "text/plain": [
       "        v1                                                 v2 Unnamed: 2  \\\n",
       "0      ham  Go until jurong point, crazy.. Available only ...        NaN   \n",
       "1      ham                      Ok lar... Joking wif u oni...        NaN   \n",
       "2     spam  Free entry in 2 a wkly comp to win FA Cup fina...        NaN   \n",
       "3      ham  U dun say so early hor... U c already then say...        NaN   \n",
       "4      ham  Nah I don't think he goes to usf, he lives aro...        NaN   \n",
       "...    ...                                                ...        ...   \n",
       "5567  spam  This is the 2nd time we have tried 2 contact u...        NaN   \n",
       "5568   ham              Will Ì_ b going to esplanade fr home?        NaN   \n",
       "5569   ham  Pity, * was in mood for that. So...any other s...        NaN   \n",
       "5570   ham  The guy did some bitching but I acted like i'd...        NaN   \n",
       "5571   ham                         Rofl. Its true to its name        NaN   \n",
       "\n",
       "     Unnamed: 3 Unnamed: 4  \n",
       "0           NaN        NaN  \n",
       "1           NaN        NaN  \n",
       "2           NaN        NaN  \n",
       "3           NaN        NaN  \n",
       "4           NaN        NaN  \n",
       "...         ...        ...  \n",
       "5567        NaN        NaN  \n",
       "5568        NaN        NaN  \n",
       "5569        NaN        NaN  \n",
       "5570        NaN        NaN  \n",
       "5571        NaN        NaN  \n",
       "\n",
       "[5572 rows x 5 columns]"
      ]
     },
     "execution_count": 2,
     "metadata": {},
     "output_type": "execute_result"
    }
   ],
   "source": [
    "\n",
    "file_path = 'C:\\\\Users\\\\amnak\\\\Downloads\\\\archive (6)\\\\spam.csv'  \n",
    "data = pd.read_csv(file_path, encoding='latin-1')\n",
    "data"
   ]
  },
  {
   "cell_type": "code",
   "execution_count": 3,
   "id": "d682aeb3-0604-419a-ae26-5af613cf34a6",
   "metadata": {},
   "outputs": [],
   "source": [
    "#Drop unnecessary columns\n",
    "data = data.drop(columns=['Unnamed: 2', 'Unnamed: 3', 'Unnamed: 4'])\n",
    "\n",
    "#Rename columns\n",
    "data.columns = ['label', 'message']\n"
   ]
  },
  {
   "cell_type": "code",
   "execution_count": 4,
   "id": "d8edda17-7400-43cf-af56-c9f10e2ecaf3",
   "metadata": {},
   "outputs": [],
   "source": [
    "#labels to binary\n",
    "data['label'] = data['label'].map({'ham': 0, 'spam': 1})\n"
   ]
  },
  {
   "cell_type": "code",
   "execution_count": 5,
   "id": "8801ba62-9fdc-431c-a0ed-09e8b77393cd",
   "metadata": {},
   "outputs": [],
   "source": [
    "\n",
    "X_train, X_test, y_train, y_test = train_test_split(data['message'], data['label'], test_size=0.2, random_state=42)\n"
   ]
  },
  {
   "cell_type": "markdown",
   "id": "484b6f88-4001-4f7f-ac56-e5ac8f055bf8",
   "metadata": {},
   "source": [
    "## TF-IDF Vectorization"
   ]
  },
  {
   "cell_type": "code",
   "execution_count": 6,
   "id": "463ff36d-f187-44e5-97cc-ea1f45af855e",
   "metadata": {},
   "outputs": [],
   "source": [
    "tfidf_vectorizer = TfidfVectorizer(stop_words='english')\n",
    "X_train_tfidf = tfidf_vectorizer.fit_transform(X_train)\n",
    "X_test_tfidf = tfidf_vectorizer.transform(X_test)\n"
   ]
  },
  {
   "cell_type": "markdown",
   "id": "99ea40a7-dce4-44c9-98ee-20fde6ad9f01",
   "metadata": {},
   "source": [
    "## Naive Bayes"
   ]
  },
  {
   "cell_type": "code",
   "execution_count": 17,
   "id": "040708b6-91e9-48ce-bcb9-5390fd11ff5a",
   "metadata": {},
   "outputs": [
    {
     "name": "stdout",
     "output_type": "stream",
     "text": [
      "Naive Bayes Classifier\n",
      "Accuracy: 96.68%\n",
      "\n",
      "\n",
      "Classification Report:\n",
      "              precision    recall  f1-score   support\n",
      "\n",
      "           0       0.96      1.00      0.98       965\n",
      "           1       1.00      0.75      0.86       150\n",
      "\n",
      "    accuracy                           0.97      1115\n",
      "   macro avg       0.98      0.88      0.92      1115\n",
      "weighted avg       0.97      0.97      0.96      1115\n",
      "\n"
     ]
    }
   ],
   "source": [
    "nb_classifier = MultinomialNB()\n",
    "nb_classifier.fit(X_train_tfidf, y_train)\n",
    "y_pred_nb = nb_classifier.predict(X_test_tfidf)\n",
    "print(\"Naive Bayes Classifier\")\n",
    "print(f\"Accuracy: {accuracy_score(y_test, y_pred_nb) * 100:.2f}%\\n\")\n",
    "print(f\"\\nClassification Report:\\n{classification_report(y_test, y_pred_nb)}\")"
   ]
  },
  {
   "cell_type": "markdown",
   "id": "70eebcea-b808-4297-a6f3-6a1cff922658",
   "metadata": {},
   "source": [
    "## Logestic regression"
   ]
  },
  {
   "cell_type": "code",
   "execution_count": 16,
   "id": "21d13b5a-a907-4cbf-9431-1011e63a4178",
   "metadata": {},
   "outputs": [
    {
     "name": "stdout",
     "output_type": "stream",
     "text": [
      "Logistic Regression Classifier\n",
      "Accuracy: 95.25%\n",
      "\n",
      "\n",
      " Classification Report:\n",
      "              precision    recall  f1-score   support\n",
      "\n",
      "           0       0.95      1.00      0.97       965\n",
      "           1       0.97      0.67      0.79       150\n",
      "\n",
      "    accuracy                           0.95      1115\n",
      "   macro avg       0.96      0.83      0.88      1115\n",
      "weighted avg       0.95      0.95      0.95      1115\n",
      "\n"
     ]
    }
   ],
   "source": [
    "log_reg = LogisticRegression()\n",
    "log_reg.fit(X_train_tfidf, y_train)\n",
    "y_pred_log_reg = log_reg.predict(X_test_tfidf)\n",
    "print(\"Logistic Regression Classifier\")\n",
    "print(f\"Accuracy: {accuracy_score(y_test, y_pred_log_reg) * 100:.2f}%\\n\")\n",
    "print(f\"\\n Classification Report:\\n{classification_report(y_test, y_pred_log_reg)}\")"
   ]
  },
  {
   "cell_type": "markdown",
   "id": "7bd6529b-1d58-4dfb-8e82-8ade6c5f457b",
   "metadata": {},
   "source": [
    "## SVM"
   ]
  },
  {
   "cell_type": "code",
   "execution_count": 15,
   "id": "0f8d39af-3fe7-43d2-9947-2327b61dd02a",
   "metadata": {},
   "outputs": [
    {
     "name": "stdout",
     "output_type": "stream",
     "text": [
      "Support Vector Machine Classifier\n",
      "Accuracy: 97.94%\n",
      "\n",
      "Classification Report:\n",
      "              precision    recall  f1-score   support\n",
      "\n",
      "           0       0.98      1.00      0.99       965\n",
      "           1       0.97      0.87      0.92       150\n",
      "\n",
      "    accuracy                           0.98      1115\n",
      "   macro avg       0.98      0.93      0.95      1115\n",
      "weighted avg       0.98      0.98      0.98      1115\n",
      "\n",
      "\n"
     ]
    }
   ],
   "source": [
    "svm_classifier = SVC(kernel='linear')\n",
    "svm_classifier.fit(X_train_tfidf, y_train)\n",
    "y_pred_svm = svm_classifier.predict(X_test_tfidf)\n",
    "print(\"Support Vector Machine Classifier\")\n",
    "print(f\"Accuracy: {accuracy_score(y_test, y_pred_svm) * 100:.2f}%\\n\")\n",
    "print(f\"Classification Report:\\n{classification_report(y_test, y_pred_svm)}\\n\")"
   ]
  },
  {
   "cell_type": "code",
   "execution_count": 19,
   "id": "1deee323-d94c-4559-8a44-733171e6a8c0",
   "metadata": {},
   "outputs": [],
   "source": [
    "def preprocess_text(text):\n",
    "    tokens = word_tokenize(text.lower())\n",
    "    filtered_tokens = [w for w in tokens if w.isalnum() and w not in stop_words]\n",
    "    return filtered_tokens\n",
    "\n",
    "X_train_tokens = X_train.apply(preprocess_text)\n",
    "X_test_tokens = X_test.apply(preprocess_text)\n"
   ]
  },
  {
   "cell_type": "markdown",
   "id": "6b727bd9-998f-4a34-b94f-1d52aa808450",
   "metadata": {},
   "source": [
    "## Word2Vec model"
   ]
  },
  {
   "cell_type": "code",
   "execution_count": 20,
   "id": "e36b2830-a079-451e-8d20-e2d503820e2d",
   "metadata": {},
   "outputs": [],
   "source": [
    "w2v_model = Word2Vec(sentences=X_train_tokens, vector_size=100, window=5, min_count=1, workers=4)\n"
   ]
  },
  {
   "cell_type": "markdown",
   "id": "fc5558dd-eadf-4b39-ad7c-8635d4ff356e",
   "metadata": {},
   "source": [
    "## Feature vectors "
   ]
  },
  {
   "cell_type": "code",
   "execution_count": 21,
   "id": "e3749137-72bc-449b-b2ca-d8055e9f9380",
   "metadata": {},
   "outputs": [],
   "source": [
    "def get_w2v_features(tokens, model, vector_size):\n",
    "    vec = np.zeros(vector_size)\n",
    "    count = 0\n",
    "    for word in tokens:\n",
    "        if word in model.wv:\n",
    "            vec += model.wv[word]\n",
    "            count += 1\n",
    "    if count != 0:\n",
    "        vec /= count\n",
    "    return vec\n",
    "\n",
    "X_train_w2v = np.array([get_w2v_features(tokens, w2v_model, 100) for tokens in X_train_tokens])\n",
    "X_test_w2v = np.array([get_w2v_features(tokens, w2v_model, 100) for tokens in X_test_tokens])\n"
   ]
  },
  {
   "cell_type": "markdown",
   "id": "388be2cc-e92f-4286-bba2-ab1f723bf8e5",
   "metadata": {},
   "source": [
    "## Logistic Regression with Word2Vec"
   ]
  },
  {
   "cell_type": "code",
   "execution_count": 22,
   "id": "19ee4868-2295-4c5c-bb66-c78ca0f45a7a",
   "metadata": {},
   "outputs": [
    {
     "name": "stdout",
     "output_type": "stream",
     "text": [
      "Logistic Regression Classifier with Word2Vec\n",
      "Accuracy: 86.55%\n",
      "\n",
      "Classification Report:\n",
      "              precision    recall  f1-score   support\n",
      "\n",
      "           0       0.87      1.00      0.93       965\n",
      "           1       0.00      0.00      0.00       150\n",
      "\n",
      "    accuracy                           0.87      1115\n",
      "   macro avg       0.43      0.50      0.46      1115\n",
      "weighted avg       0.75      0.87      0.80      1115\n",
      "\n",
      "\n"
     ]
    },
    {
     "name": "stderr",
     "output_type": "stream",
     "text": [
      "C:\\Users\\amnak\\anaconda3\\Lib\\site-packages\\sklearn\\metrics\\_classification.py:1344: UndefinedMetricWarning: Precision and F-score are ill-defined and being set to 0.0 in labels with no predicted samples. Use `zero_division` parameter to control this behavior.\n",
      "  _warn_prf(average, modifier, msg_start, len(result))\n",
      "C:\\Users\\amnak\\anaconda3\\Lib\\site-packages\\sklearn\\metrics\\_classification.py:1344: UndefinedMetricWarning: Precision and F-score are ill-defined and being set to 0.0 in labels with no predicted samples. Use `zero_division` parameter to control this behavior.\n",
      "  _warn_prf(average, modifier, msg_start, len(result))\n",
      "C:\\Users\\amnak\\anaconda3\\Lib\\site-packages\\sklearn\\metrics\\_classification.py:1344: UndefinedMetricWarning: Precision and F-score are ill-defined and being set to 0.0 in labels with no predicted samples. Use `zero_division` parameter to control this behavior.\n",
      "  _warn_prf(average, modifier, msg_start, len(result))\n"
     ]
    }
   ],
   "source": [
    "log_reg_w2v = LogisticRegression()\n",
    "log_reg_w2v.fit(X_train_w2v, y_train)\n",
    "y_pred_log_reg_w2v = log_reg_w2v.predict(X_test_w2v)\n",
    "print(\"Logistic Regression Classifier with Word2Vec\")\n",
    "print(f\"Accuracy: {accuracy_score(y_test, y_pred_log_reg_w2v) * 100:.2f}%\\n\")\n",
    "print(f\"Classification Report:\\n{classification_report(y_test, y_pred_log_reg_w2v)}\\n\")\n"
   ]
  },
  {
   "cell_type": "markdown",
   "id": "746ec0bf-2f5e-4bf5-9cbf-3717e3fdc54a",
   "metadata": {},
   "source": [
    "## SVM with Word2Vec"
   ]
  },
  {
   "cell_type": "code",
   "execution_count": 24,
   "id": "d3d24e95-0ff4-4406-94b9-b45280b64ea5",
   "metadata": {},
   "outputs": [
    {
     "name": "stdout",
     "output_type": "stream",
     "text": [
      "Support Vector Machine Classifier with Word2Vec\n",
      "Accuracy: 86.55%\n",
      "\n",
      "Classification Report:\n",
      "              precision    recall  f1-score   support\n",
      "\n",
      "           0       0.87      1.00      0.93       965\n",
      "           1       0.00      0.00      0.00       150\n",
      "\n",
      "    accuracy                           0.87      1115\n",
      "   macro avg       0.43      0.50      0.46      1115\n",
      "weighted avg       0.75      0.87      0.80      1115\n",
      "\n",
      "\n"
     ]
    },
    {
     "name": "stderr",
     "output_type": "stream",
     "text": [
      "C:\\Users\\amnak\\anaconda3\\Lib\\site-packages\\sklearn\\metrics\\_classification.py:1344: UndefinedMetricWarning: Precision and F-score are ill-defined and being set to 0.0 in labels with no predicted samples. Use `zero_division` parameter to control this behavior.\n",
      "  _warn_prf(average, modifier, msg_start, len(result))\n",
      "C:\\Users\\amnak\\anaconda3\\Lib\\site-packages\\sklearn\\metrics\\_classification.py:1344: UndefinedMetricWarning: Precision and F-score are ill-defined and being set to 0.0 in labels with no predicted samples. Use `zero_division` parameter to control this behavior.\n",
      "  _warn_prf(average, modifier, msg_start, len(result))\n",
      "C:\\Users\\amnak\\anaconda3\\Lib\\site-packages\\sklearn\\metrics\\_classification.py:1344: UndefinedMetricWarning: Precision and F-score are ill-defined and being set to 0.0 in labels with no predicted samples. Use `zero_division` parameter to control this behavior.\n",
      "  _warn_prf(average, modifier, msg_start, len(result))\n"
     ]
    }
   ],
   "source": [
    "svm_classifier_w2v = SVC(kernel='linear')\n",
    "svm_classifier_w2v.fit(X_train_w2v, y_train)\n",
    "y_pred_svm_w2v = svm_classifier_w2v.predict(X_test_w2v)\n",
    "print(\"Support Vector Machine Classifier with Word2Vec\")\n",
    "print(f\"Accuracy: {accuracy_score(y_test, y_pred_svm_w2v) * 100:.2f}%\\n\")\n",
    "print(f\"Classification Report:\\n{classification_report(y_test, y_pred_svm_w2v)}\\n\")"
   ]
  },
  {
   "cell_type": "markdown",
   "id": "5ca5829a-745f-4109-8104-5fff1a3d05fe",
   "metadata": {},
   "source": [
    "## Results"
   ]
  },
  {
   "cell_type": "code",
   "execution_count": 34,
   "id": "b2b5a8a6-94b3-48cf-a1ec-e4cac0697640",
   "metadata": {},
   "outputs": [
    {
     "data": {
      "image/png": "[encoded data removed]",
      "text/plain": [
       "<Figure size 600x600 with 1 Axes>"
      ]
     },
     "metadata": {},
     "output_type": "display_data"
    }
   ],
   "source": [
    "accuracies = {\n",
    "    \"Naive Bayes (TF-IDF)\": accuracy_score(y_test, y_pred_nb) * 100,\n",
    "    \"Logistic Regression (TF-IDF)\": accuracy_score(y_test, y_pred_log_reg) * 100,\n",
    "    \"SVM (TF-IDF)\": accuracy_score(y_test, y_pred_svm) * 100,\n",
    "}\n",
    "models = list(accuracies.keys())\n",
    "accuracy_values = list(accuracies.values())\n",
    "\n",
    "plt.figure(figsize=(6, 6))\n",
    "plt.bar(models, accuracy_values, color=['navy', 'cyan', 'purple', 'navy', 'magenta'])\n",
    "plt.xlabel('Models')\n",
    "plt.ylabel('Accuracy (%)')\n",
    "plt.title('Model Accuracies')\n",
    "plt.xticks(rotation=45, ha='right')\n",
    "plt.ylim(90, 100)\n",
    "plt.grid(axis='y')\n",
    "\n",
    "for i, v in enumerate(accuracy_values):\n",
    "    plt.text(i, v + 0.5, f\"{v:.2f}%\", ha='center')\n",
    "\n",
    "plt.tight_layout()\n",
    "plt.show()\n"
   ]
  },
  {
   "cell_type": "code",
   "execution_count": null,
   "id": "8c61d97a-6a9e-4ba1-92bf-50eabe4aeab6",
   "metadata": {},
   "outputs": [],
   "source": []
  }
 ],
 "metadata": {
  "kernelspec": {
   "display_name": "Python 3 (ipykernel)",
   "language": "python",
   "name": "python3"
  },
  "language_info": {
   "codemirror_mode": {
    "name": "ipython",
    "version": 3
   },
   "file_extension": ".py",
   "mimetype": "text/x-python",
   "name": "python",
   "nbconvert_exporter": "python",
   "pygments_lexer": "ipython3",
   "version": "3.11.7"
  }
 },
 "nbformat": 4,
 "nbformat_minor": 5
}
